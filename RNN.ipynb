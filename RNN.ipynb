{
 "cells": [
  {
   "cell_type": "markdown",
   "metadata": {},
   "source": [
    "# Sentence Ordering"
   ]
  },
  {
   "cell_type": "markdown",
   "metadata": {},
   "source": [
    "* Author: Ali Akbar Halvaei \n",
    "* email: ali.akbarhalvaei@studio.unibo.it"
   ]
  },
  {
   "cell_type": "markdown",
   "metadata": {},
   "source": [
    "**Description**:\n",
    "In this notebook, we want to design one RNN encoder-decoder with the aim of ordering unordered sentences. So, there are three main steps in this notebook:\n",
    "\n",
    "* Downloading the dataset\n",
    "* Preparing the dataset\n",
    "* Design the model\n",
    "\n",
    "For this task, transformers have better performance; however, with the purpose of learning about how RNN encoder-decoder works, I have decided to design this model\n"
   ]
  },
  {
   "cell_type": "markdown",
   "metadata": {},
   "source": [
    "This task is among the sequence-to-sequence task. Recently, most of the task in this category have been done using by either Transformers or Encoder-Decoder architecture. "
   ]
  },
  {
   "cell_type": "code",
   "execution_count": null,
   "metadata": {},
   "outputs": [],
   "source": [
    "!pip install datasets"
   ]
  },
  {
   "cell_type": "code",
   "execution_count": 2,
   "metadata": {
    "execution": {
     "iopub.execute_input": "2024-06-12T01:08:21.417901Z",
     "iopub.status.busy": "2024-06-12T01:08:21.417575Z",
     "iopub.status.idle": "2024-06-12T01:11:24.807859Z",
     "shell.execute_reply": "2024-06-12T01:11:24.806805Z",
     "shell.execute_reply.started": "2024-06-12T01:08:21.417870Z"
    }
   },
   "outputs": [
    {
     "name": "stderr",
     "output_type": "stream",
     "text": [
      "2024-06-12 01:08:24.890022: E external/local_xla/xla/stream_executor/cuda/cuda_dnn.cc:9261] Unable to register cuDNN factory: Attempting to register factory for plugin cuDNN when one has already been registered\n",
      "2024-06-12 01:08:24.890117: E external/local_xla/xla/stream_executor/cuda/cuda_fft.cc:607] Unable to register cuFFT factory: Attempting to register factory for plugin cuFFT when one has already been registered\n",
      "2024-06-12 01:08:25.021734: E external/local_xla/xla/stream_executor/cuda/cuda_blas.cc:1515] Unable to register cuBLAS factory: Attempting to register factory for plugin cuBLAS when one has already been registered\n"
     ]
    },
    {
     "data": {
      "application/vnd.jupyter.widget-view+json": {
       "model_id": "76ef6d4876af454090f2a4b7730a6f2b",
       "version_major": 2,
       "version_minor": 0
      },
      "text/plain": [
       "Downloading builder script:   0%|          | 0.00/8.64k [00:00<?, ?B/s]"
      ]
     },
     "metadata": {},
     "output_type": "display_data"
    },
    {
     "data": {
      "application/vnd.jupyter.widget-view+json": {
       "model_id": "faa1efd1e9c7459e98b007f2abb9f42b",
       "version_major": 2,
       "version_minor": 0
      },
      "text/plain": [
       "Downloading readme:   0%|          | 0.00/11.9k [00:00<?, ?B/s]"
      ]
     },
     "metadata": {},
     "output_type": "display_data"
    },
    {
     "data": {
      "application/vnd.jupyter.widget-view+json": {
       "model_id": "2abcb44aa6f747eba6134aeeb2019af6",
       "version_major": 2,
       "version_minor": 0
      },
      "text/plain": [
       "Downloading data:   0%|          | 0.00/27.1M [00:00<?, ?B/s]"
      ]
     },
     "metadata": {},
     "output_type": "display_data"
    },
    {
     "data": {
      "application/vnd.jupyter.widget-view+json": {
       "model_id": "ce8d7814e9084971b0b9a2dbaf1ffd7e",
       "version_major": 2,
       "version_minor": 0
      },
      "text/plain": [
       "Generating train split:   0%|          | 0/1020868 [00:00<?, ? examples/s]"
      ]
     },
     "metadata": {},
     "output_type": "display_data"
    },
    {
     "data": {
      "application/vnd.jupyter.widget-view+json": {
       "model_id": "7feee33e472d46c49b932789362e40d8",
       "version_major": 2,
       "version_minor": 0
      },
      "text/plain": [
       "Filter:   0%|          | 0/1020868 [00:00<?, ? examples/s]"
      ]
     },
     "metadata": {},
     "output_type": "display_data"
    }
   ],
   "source": [
    "from datasets import load_dataset\n",
    "from keras.layers import TextVectorization\n",
    "import tensorflow as tf\n",
    "import numpy as np\n",
    "import re\n",
    "\n",
    "np.random.seed(42)\n",
    "\n",
    "# Load dataset\n",
    "ds = load_dataset('generics_kb', trust_remote_code=True)['train']\n",
    "\n",
    "# Filter sentences longer than 8 words\n",
    "ds = ds.filter(lambda row: len(row[\"generic_sentence\"].split(\" \")) > 8)\n",
    "\n",
    "# Prepare corpus with special tokens\n",
    "corpus = ['<start> ' + row['generic_sentence'].replace(\",\", \" <comma>\") + ' <end>' for row in ds]\n",
    "corpus = np.array(corpus)\n",
    "\n",
    "# Define TextVectorization\n",
    "tokenizer = TextVectorization(max_tokens=10000, standardize=\"lower_and_strip_punctuation\", encoding=\"utf-8\")\n",
    "tokenizer.adapt(corpus)\n",
    "\n",
    "# Define the TextDetokenizer class\n",
    "class TextDetokenizer:\n",
    "    def __init__(self, vectorize_layer):\n",
    "        self.vectorize_layer = vectorize_layer\n",
    "        vocab = self.vectorize_layer.get_vocabulary()\n",
    "        self.index_to_word = {index: word for index, word in enumerate(vocab)}\n",
    "\n",
    "    def __detokenize_tokens(self, tokens):\n",
    "        def check_token(t):\n",
    "            if t == 3:\n",
    "                return \"<start>\"\n",
    "            elif t == 2:\n",
    "                return \"<end>\"\n",
    "            elif t == 7:\n",
    "                return \"<comma>\"\n",
    "            else:\n",
    "                return self.index_to_word.get(t, '[UNK]')\n",
    "\n",
    "        return ' '.join([check_token(token) for token in tokens if token != 0])\n",
    "\n",
    "    def __call__(self, batch_tokens):\n",
    "        return [self.__detokenize_tokens(tokens) for tokens in batch_tokens]\n",
    "\n",
    "# Initialize the detokenizer\n",
    "detokenizer = TextDetokenizer(tokenizer)\n",
    "\n",
    "# Tokenize the corpus\n",
    "sentences = tokenizer(corpus).numpy()\n",
    "\n",
    "# Filter out sentences with unknown tokens\n",
    "mask = np.sum((sentences == 1), axis=1) >= 1\n",
    "original_data = np.delete(sentences, mask, axis=0)"
   ]
  },
  {
   "cell_type": "code",
   "execution_count": 3,
   "metadata": {
    "execution": {
     "iopub.execute_input": "2024-06-12T01:11:42.290357Z",
     "iopub.status.busy": "2024-06-12T01:11:42.289726Z",
     "iopub.status.idle": "2024-06-12T01:11:42.371582Z",
     "shell.execute_reply": "2024-06-12T01:11:42.370763Z",
     "shell.execute_reply.started": "2024-06-12T01:11:42.290326Z"
    }
   },
   "outputs": [],
   "source": [
    "from tensorflow.keras.utils import Sequence\n",
    "\n",
    "class DataGenerator(Sequence):\n",
    "    def __init__(self, data, batch_size=32, shuffle=True, seed=42):\n",
    "        self.data = data\n",
    "        self.batch_size = batch_size\n",
    "        self.shuffle = shuffle\n",
    "        self.seed = seed\n",
    "        self.on_epoch_end()\n",
    "\n",
    "\n",
    "    def __len__(self):\n",
    "        return int(np.floor(len(self.data) / self.batch_size))\n",
    "\n",
    "    def __getitem__(self, index):\n",
    "        indexes = self.indexes[index*self.batch_size:(index+1)*self.batch_size]\n",
    "\n",
    "        data_batch = np.array([self.data[k] for k in indexes])\n",
    "        #copy of ordered sequences\n",
    "        result = np.copy(data_batch)\n",
    "        #shuffle only the relevant positions for each batch\n",
    "        for i in range(data_batch.shape[0]):\n",
    "            np.random.shuffle(data_batch[i,1:data_batch[i].argmin() - 1])\n",
    "\n",
    "        return data_batch , result\n",
    "\n",
    "    def on_epoch_end(self):\n",
    "        self.indexes = np.arange(len(self.data))\n",
    "        if self.shuffle:\n",
    "            if self.seed is not None:\n",
    "                np.random.seed(self.seed)\n",
    "            np.random.shuffle(self.indexes)\n",
    "\n",
    "# Shuffle and split the dataset into training and test sets\n",
    "np.random.seed(42)\n",
    "shuffled_indices = np.random.permutation(len(original_data))\n",
    "shuffled_data = original_data[shuffled_indices]\n",
    "\n",
    "train_data = shuffled_data[:220000]\n",
    "test_data = shuffled_data[220000:]\n",
    "test_generator = DataGenerator(test_data, batch_size=32)\n",
    "train_generator = DataGenerator(train_data, batch_size=64)\n"
   ]
  },
  {
   "cell_type": "code",
   "execution_count": null,
   "metadata": {},
   "outputs": [],
   "source": [
    "train_generator = DataGenerator(original_data[:220000])\n",
    "test_generator = DataGenerator(original_data[220000:])\n",
    "x, y = test_generator.__getitem__(1)"
   ]
  },
  {
   "cell_type": "code",
   "execution_count": 5,
   "metadata": {
    "execution": {
     "iopub.execute_input": "2024-06-12T01:11:47.346397Z",
     "iopub.status.busy": "2024-06-12T01:11:47.346014Z",
     "iopub.status.idle": "2024-06-12T01:11:47.353473Z",
     "shell.execute_reply": "2024-06-12T01:11:47.352545Z",
     "shell.execute_reply.started": "2024-06-12T01:11:47.346356Z"
    }
   },
   "outputs": [
    {
     "name": "stdout",
     "output_type": "stream",
     "text": [
      "original:  <start> wind energy is the one of the most inexpensive forms of energy on the market <end>\n",
      "shuffled:  <start> the on is the wind of forms market energy of energy inexpensive most the one <end>\n",
      "\n",
      "\n",
      "original:  <start> tropical rainforests contain many diverse species <comma> many of which are found nowhere else <end>\n",
      "shuffled:  <start> species tropical are else many nowhere many rainforests of contain found which <comma> diverse <end>\n",
      "\n",
      "\n",
      "original:  <start> urban environments differ from agricultural and wild lands in many respects <end>\n",
      "shuffled:  <start> urban in and wild lands environments respects many from agricultural differ <end>\n",
      "\n",
      "\n",
      "original:  <start> water conservation is one important way to stretch existing water supplies <end>\n",
      "shuffled:  <start> water supplies to conservation water stretch is important way existing one <end>\n",
      "\n",
      "\n",
      "original:  <start> urban life is concentrated in the capital <comma> whose population is mostly engaged in commerce <end>\n",
      "shuffled:  <start> is in life whose engaged in <comma> capital urban population is the commerce concentrated mostly <end>\n",
      "\n",
      "\n",
      "original:  <start> willow roots are excellent at holding the soil in the banks together <end>\n",
      "shuffled:  <start> soil the together excellent at banks holding roots in the are willow <end>\n",
      "\n",
      "\n",
      "original:  <start> wind is caused by uneven heating and cooling of the earths surface and by the earths rotation <end>\n",
      "shuffled:  <start> heating caused surface the the by by and earths of is earths and cooling rotation uneven wind <end>\n",
      "\n",
      "\n"
     ]
    }
   ],
   "source": [
    "a = detokenizer(x)\n",
    "b = detokenizer(y)\n",
    "\n",
    "for i in range(7):\n",
    "    print(\"original: \", b[i])\n",
    "    print(\"shuffled: \", a[i])\n",
    "    print(\"\\n\")"
   ]
  },
  {
   "cell_type": "markdown",
   "metadata": {},
   "source": [
    "# **Data preparation**"
   ]
  },
  {
   "cell_type": "markdown",
   "metadata": {},
   "source": [
    "When it comes to using Encoder-Decoder structures, we are dealing with 3 data for the model:\n",
    "\n",
    "1. Encoder input\n",
    "2. Decoder input\n",
    "3. Decoder target\n",
    "\n",
    "In our task, encoder input is the shuffled data, and decoder input and output are the ordered data with a little difference.\n",
    "For Encoder input, the data does not include our special words: **'start', 'end'**\n",
    "\n",
    "On the other hand, The decoder input contain **'start'** but does not contain **'end'**. The reason behind is that after training the model, we receive encoder input and based on the context data(provided by the encoder), we predict decoder values token by token.\n",
    "\n",
    "Finally, Decoder output does not contain **'start'** but contains **'end'**. \n",
    "\n"
   ]
  },
  {
   "cell_type": "code",
   "execution_count": 102,
   "metadata": {
    "execution": {
     "iopub.execute_input": "2024-06-12T02:59:18.885876Z",
     "iopub.status.busy": "2024-06-12T02:59:18.885479Z",
     "iopub.status.idle": "2024-06-12T02:59:18.939341Z",
     "shell.execute_reply": "2024-06-12T02:59:18.938411Z",
     "shell.execute_reply.started": "2024-06-12T02:59:18.885848Z"
    }
   },
   "outputs": [],
   "source": [
    "BATCH_SIZE = 32\n",
    "MAX_LENGTH = 28\n",
    "\n",
    "\n",
    "tds = tf.data.Dataset.from_generator(\n",
    "    lambda: train_generator,\n",
    "    output_signature=(\n",
    "        tf.TensorSpec(shape=(BATCH_SIZE, MAX_LENGTH), dtype=tf.int32), \n",
    "        tf.TensorSpec(shape=(BATCH_SIZE, MAX_LENGTH), dtype=tf.int32)   \n",
    "    )\n",
    ")\n",
    "\n",
    "\n",
    "test_tds = tf.data.Dataset.from_generator(\n",
    "    lambda: test_generator,\n",
    "    output_signature=(\n",
    "        tf.TensorSpec(shape=(BATCH_SIZE, MAX_LENGTH), dtype=tf.int32),  \n",
    "        tf.TensorSpec(shape=(BATCH_SIZE, MAX_LENGTH), dtype=tf.int32)   \n",
    "    )\n",
    ")"
   ]
  },
  {
   "cell_type": "markdown",
   "metadata": {},
   "source": [
    "Why I loaded data into train and test generator and then I change their shape?\n",
    "\n",
    "\n",
    "class DataGenerator has been given by the challenge provider, so I was not supposed to change it. However, I did not like to have data with specific batch size because I could not change the batch size during training phase to find the best batch size for myself. Thus, I have decided to load them into other arrays for training"
   ]
  },
  {
   "cell_type": "code",
   "execution_count": 103,
   "metadata": {
    "execution": {
     "iopub.execute_input": "2024-06-12T02:59:19.024707Z",
     "iopub.status.busy": "2024-06-12T02:59:19.024063Z",
     "iopub.status.idle": "2024-06-12T02:59:24.654913Z",
     "shell.execute_reply": "2024-06-12T02:59:24.653915Z",
     "shell.execute_reply.started": "2024-06-12T02:59:19.024680Z"
    }
   },
   "outputs": [],
   "source": [
    "enc = list()\n",
    "dec = list()\n",
    "\n",
    "\n",
    "for i, j in tds:\n",
    "    enc.append(i)\n",
    "    dec.append(j)\n",
    "\n",
    "\n",
    "\n",
    "encoder_inputs_data = tf.convert_to_tensor(enc)\n",
    "decoder_inputs_data = tf.convert_to_tensor(dec)\n",
    "decoder_target_data = decoder_inputs_data\n"
   ]
  },
  {
   "cell_type": "code",
   "execution_count": 104,
   "metadata": {
    "execution": {
     "iopub.execute_input": "2024-06-12T02:59:24.657039Z",
     "iopub.status.busy": "2024-06-12T02:59:24.656753Z",
     "iopub.status.idle": "2024-06-12T02:59:25.166432Z",
     "shell.execute_reply": "2024-06-12T02:59:25.165567Z",
     "shell.execute_reply.started": "2024-06-12T02:59:24.657015Z"
    }
   },
   "outputs": [],
   "source": [
    "enc_test = []\n",
    "dec_test = []\n",
    "\n",
    "for i, j in test_tds:\n",
    "    enc_test.append(i)\n",
    "    dec_test.append(j)"
   ]
  },
  {
   "cell_type": "code",
   "execution_count": 105,
   "metadata": {
    "execution": {
     "iopub.execute_input": "2024-06-12T02:59:25.167956Z",
     "iopub.status.busy": "2024-06-12T02:59:25.167687Z",
     "iopub.status.idle": "2024-06-12T02:59:25.175687Z",
     "shell.execute_reply": "2024-06-12T02:59:25.174757Z",
     "shell.execute_reply.started": "2024-06-12T02:59:25.167933Z"
    }
   },
   "outputs": [],
   "source": [
    "#as mentioned encoder should not contain <start> and <end>, so this function removes those words from our encoder input data\n",
    "\n",
    "def encoder_input_preparation(tensor, END_INDEX = 2):\n",
    "    \n",
    "    shifted_tensor = np.zeros_like(tensor)\n",
    "    for i in range(tensor.shape[0]):\n",
    "        # Shift elements to the left and drop the first element\n",
    "        shifted_tensor[i, :-1] = tensor[i, 1:]\n",
    "        # Replace 2 with 0\n",
    "        shifted_tensor[i] = np.where(shifted_tensor[i] == END_INDEX, 0, shifted_tensor[i])\n",
    "    return shifted_tensor\n",
    "\n",
    "\n",
    "#decoder input data should not contain <end> and this function removes them for us\n",
    "def decoder_input_preparation(tensor, END_INDEX = 2):\n",
    "    tensor[i] = np.where(tensor[i] == END_INDEX , 0, tensor[i])\n",
    "    \n",
    "    return tensor"
   ]
  },
  {
   "cell_type": "code",
   "execution_count": 106,
   "metadata": {
    "execution": {
     "iopub.execute_input": "2024-06-12T02:59:25.177855Z",
     "iopub.status.busy": "2024-06-12T02:59:25.177587Z",
     "iopub.status.idle": "2024-06-12T02:59:27.009662Z",
     "shell.execute_reply": "2024-06-12T02:59:27.008703Z",
     "shell.execute_reply.started": "2024-06-12T02:59:25.177832Z"
    }
   },
   "outputs": [],
   "source": [
    "#as the given data is in the shape of 6875,32,28 , I did not have the freedome to change the batch_size to see the performance on different batch_sizes\n",
    "#Thus, I decided to reshape them so that during training I can change different batch sizes\n",
    "encoder_inputs_data = np.array(enc).reshape(220000, 28)\n",
    "encoder_inputs_data = encoder_input_preparation(encoder_inputs_data)\n",
    "\n",
    "decoder_inputs_data = np.array(dec).reshape(220000, 28)\n",
    "decoder_inputs_data = decoder_input_preparation(decoder_inputs_data)\n",
    "decoder_inputs_data = decoder_inputs_data[:, :-1]\n",
    "\n",
    "decoder_output = np.array(dec).reshape(220000, 28)\n",
    "decoder_output = decoder_output[:, 1:]\n",
    "decoder_target_data = np.expand_dims(decoder_output, -1)"
   ]
  },
  {
   "cell_type": "code",
   "execution_count": 107,
   "metadata": {
    "execution": {
     "iopub.execute_input": "2024-06-12T02:59:27.011512Z",
     "iopub.status.busy": "2024-06-12T02:59:27.011235Z",
     "iopub.status.idle": "2024-06-12T02:59:27.197539Z",
     "shell.execute_reply": "2024-06-12T02:59:27.196701Z",
     "shell.execute_reply.started": "2024-06-12T02:59:27.011489Z"
    }
   },
   "outputs": [],
   "source": [
    "#This cell take care of preparing test data\n",
    "encoder_inputs_data_test = np.array(enc_test).reshape(21216, 28)\n",
    "encoder_inputs_data_test = encoder_input_preparation(encoder_inputs_data_test)\n",
    "\n",
    "decoder_inputs_data_test = np.array(dec_test).reshape(21216, 28)\n",
    "decoder_inputs_data_test = decoder_input_preparation(decoder_inputs_data_test)\n",
    "decoder_inputs_data_test = decoder_inputs_data_test[:, :-1]\n",
    "\n",
    "decoder_output_test = np.array(dec_test).reshape(21216, 28)\n",
    "decoder_output_test = decoder_output_test[:, :-1]\n",
    "#the reason that I exoanded decoder output dimension is based on the way encoder-decoder work\n",
    "#in the inference part, decoder values are produced token by token, so we expand the dimension so that we will be able \n",
    "#to generate it token by token\n",
    "decoder_output_test = np.expand_dims(decoder_output_test, -1)"
   ]
  },
  {
   "cell_type": "code",
   "execution_count": 108,
   "metadata": {
    "execution": {
     "iopub.execute_input": "2024-06-12T02:59:27.199146Z",
     "iopub.status.busy": "2024-06-12T02:59:27.198720Z",
     "iopub.status.idle": "2024-06-12T02:59:27.205795Z",
     "shell.execute_reply": "2024-06-12T02:59:27.204837Z",
     "shell.execute_reply.started": "2024-06-12T02:59:27.199114Z"
    }
   },
   "outputs": [
    {
     "data": {
      "text/plain": [
       "array([  47, 2756,  685,   21,   16, 6775,   11,   10,  224,  679, 6429,\n",
       "        969,  114, 1112, 3941,    0,    0,    0,    0,    0,    0,    0,\n",
       "          0,    0,    0,    0,    0,    0], dtype=int32)"
      ]
     },
     "execution_count": 108,
     "metadata": {},
     "output_type": "execute_result"
    }
   ],
   "source": [
    "#here we can se a sample of encoder input which does not have start(3) and end(2) indexes\n",
    "encoder_inputs_data[0]"
   ]
  },
  {
   "cell_type": "code",
   "execution_count": 109,
   "metadata": {
    "execution": {
     "iopub.execute_input": "2024-06-12T02:59:28.256647Z",
     "iopub.status.busy": "2024-06-12T02:59:28.255912Z",
     "iopub.status.idle": "2024-06-12T02:59:28.262697Z",
     "shell.execute_reply": "2024-06-12T02:59:28.261723Z",
     "shell.execute_reply.started": "2024-06-12T02:59:28.256617Z"
    }
   },
   "outputs": [
    {
     "data": {
      "text/plain": [
       "array([   3, 3941, 6775,  114,  685,   21, 6429,   16, 1112,  969,   47,\n",
       "         10,  224,  679,   11, 2756,    0,    0,    0,    0,    0,    0,\n",
       "          0,    0,    0,    0,    0], dtype=int32)"
      ]
     },
     "execution_count": 109,
     "metadata": {},
     "output_type": "execute_result"
    }
   ],
   "source": [
    "#decoder input has start(3) index as it should \n",
    "decoder_inputs_data[0]"
   ]
  },
  {
   "cell_type": "code",
   "execution_count": 110,
   "metadata": {
    "execution": {
     "iopub.execute_input": "2024-06-12T02:59:30.044554Z",
     "iopub.status.busy": "2024-06-12T02:59:30.044182Z",
     "iopub.status.idle": "2024-06-12T02:59:30.051194Z",
     "shell.execute_reply": "2024-06-12T02:59:30.050277Z",
     "shell.execute_reply.started": "2024-06-12T02:59:30.044503Z"
    }
   },
   "outputs": [
    {
     "data": {
      "text/plain": [
       "array([[3941],\n",
       "       [6775],\n",
       "       [ 114],\n",
       "       [ 685],\n",
       "       [  21],\n",
       "       [6429],\n",
       "       [  16],\n",
       "       [1112],\n",
       "       [ 969],\n",
       "       [  47],\n",
       "       [  10],\n",
       "       [ 224],\n",
       "       [ 679],\n",
       "       [  11],\n",
       "       [2756],\n",
       "       [   2],\n",
       "       [   0],\n",
       "       [   0],\n",
       "       [   0],\n",
       "       [   0],\n",
       "       [   0],\n",
       "       [   0],\n",
       "       [   0],\n",
       "       [   0],\n",
       "       [   0],\n",
       "       [   0],\n",
       "       [   0]], dtype=int32)"
      ]
     },
     "execution_count": 110,
     "metadata": {},
     "output_type": "execute_result"
    }
   ],
   "source": [
    "decoder_target_data[0]"
   ]
  },
  {
   "cell_type": "markdown",
   "metadata": {},
   "source": [
    "**Hyperparameters:**\n",
    "* Reasonable value for embed_dim is either 128 or 256. However, when we choose 256, it increase the number of parameters significanlty(arround two times) but the result compared to the network with 128 embed_dim was almost the same. Hence, I have decided to choose 128 because the training time, testing time were significanlty better and almost the same result\n",
    "\n",
    "* Loss is Sparse Categorical Cross Entroppy because our label are integers and they are not in the form of One-hot encoding. Thus, we cannot use Categorical Cross Entropy and we should use Sparse version.\n",
    "\n",
    "\n",
    "* Optimizer is Adam, firstly because of the all works so far in seq2seq problems have used this optimizer and secondly, the results of this optimizer compared to RMSprop was better"
   ]
  },
  {
   "cell_type": "code",
   "execution_count": 111,
   "metadata": {
    "execution": {
     "iopub.execute_input": "2024-06-12T02:59:33.518635Z",
     "iopub.status.busy": "2024-06-12T02:59:33.518003Z",
     "iopub.status.idle": "2024-06-12T02:59:33.523328Z",
     "shell.execute_reply": "2024-06-12T02:59:33.522400Z",
     "shell.execute_reply.started": "2024-06-12T02:59:33.518604Z"
    }
   },
   "outputs": [],
   "source": [
    "vocab_size = tokenizer.vocabulary_size()\n",
    "max_length = sentences.shape[1]\n",
    "embed_dim = 128\n",
    "lstm_units = 256\n",
    "dropout_rate = 0.3"
   ]
  },
  {
   "cell_type": "code",
   "execution_count": 119,
   "metadata": {
    "execution": {
     "iopub.execute_input": "2024-06-12T03:07:32.626067Z",
     "iopub.status.busy": "2024-06-12T03:07:32.625686Z",
     "iopub.status.idle": "2024-06-12T03:07:32.962111Z",
     "shell.execute_reply": "2024-06-12T03:07:32.961263Z",
     "shell.execute_reply.started": "2024-06-12T03:07:32.626037Z"
    }
   },
   "outputs": [
    {
     "data": {
      "text/html": [
       "<pre style=\"white-space:pre;overflow-x:auto;line-height:normal;font-family:Menlo,'DejaVu Sans Mono',consolas,'Courier New',monospace\"><span style=\"font-weight: bold\">Model: \"functional_57\"</span>\n",
       "</pre>\n"
      ],
      "text/plain": [
       "\u001b[1mModel: \"functional_57\"\u001b[0m\n"
      ]
     },
     "metadata": {},
     "output_type": "display_data"
    },
    {
     "data": {
      "text/html": [
       "<pre style=\"white-space:pre;overflow-x:auto;line-height:normal;font-family:Menlo,'DejaVu Sans Mono',consolas,'Courier New',monospace\">┏━━━━━━━━━━━━━━━━━━━━━┳━━━━━━━━━━━━━━━━━━━┳━━━━━━━━━━━━┳━━━━━━━━━━━━━━━━━━━┓\n",
       "┃<span style=\"font-weight: bold\"> Layer (type)        </span>┃<span style=\"font-weight: bold\"> Output Shape      </span>┃<span style=\"font-weight: bold\">    Param # </span>┃<span style=\"font-weight: bold\"> Connected to      </span>┃\n",
       "┡━━━━━━━━━━━━━━━━━━━━━╇━━━━━━━━━━━━━━━━━━━╇━━━━━━━━━━━━╇━━━━━━━━━━━━━━━━━━━┩\n",
       "│ encoder_inputs      │ (<span style=\"color: #00d7ff; text-decoration-color: #00d7ff\">None</span>, <span style=\"color: #00af00; text-decoration-color: #00af00\">28</span>)        │          <span style=\"color: #00af00; text-decoration-color: #00af00\">0</span> │ -                 │\n",
       "│ (<span style=\"color: #0087ff; text-decoration-color: #0087ff\">InputLayer</span>)        │                   │            │                   │\n",
       "├─────────────────────┼───────────────────┼────────────┼───────────────────┤\n",
       "│ decoder_inputs      │ (<span style=\"color: #00d7ff; text-decoration-color: #00d7ff\">None</span>, <span style=\"color: #00af00; text-decoration-color: #00af00\">27</span>)        │          <span style=\"color: #00af00; text-decoration-color: #00af00\">0</span> │ -                 │\n",
       "│ (<span style=\"color: #0087ff; text-decoration-color: #0087ff\">InputLayer</span>)        │                   │            │                   │\n",
       "├─────────────────────┼───────────────────┼────────────┼───────────────────┤\n",
       "│ embedding_40        │ (<span style=\"color: #00d7ff; text-decoration-color: #00d7ff\">None</span>, <span style=\"color: #00af00; text-decoration-color: #00af00\">28</span>, <span style=\"color: #00af00; text-decoration-color: #00af00\">128</span>)   │  <span style=\"color: #00af00; text-decoration-color: #00af00\">1,280,000</span> │ encoder_inputs[<span style=\"color: #00af00; text-decoration-color: #00af00\">0</span>… │\n",
       "│ (<span style=\"color: #0087ff; text-decoration-color: #0087ff\">Embedding</span>)         │                   │            │                   │\n",
       "├─────────────────────┼───────────────────┼────────────┼───────────────────┤\n",
       "│ not_equal_50        │ (<span style=\"color: #00d7ff; text-decoration-color: #00d7ff\">None</span>, <span style=\"color: #00af00; text-decoration-color: #00af00\">28</span>)        │          <span style=\"color: #00af00; text-decoration-color: #00af00\">0</span> │ encoder_inputs[<span style=\"color: #00af00; text-decoration-color: #00af00\">0</span>… │\n",
       "│ (<span style=\"color: #0087ff; text-decoration-color: #0087ff\">NotEqual</span>)          │                   │            │                   │\n",
       "├─────────────────────┼───────────────────┼────────────┼───────────────────┤\n",
       "│ embedding_41        │ (<span style=\"color: #00d7ff; text-decoration-color: #00d7ff\">None</span>, <span style=\"color: #00af00; text-decoration-color: #00af00\">27</span>, <span style=\"color: #00af00; text-decoration-color: #00af00\">128</span>)   │  <span style=\"color: #00af00; text-decoration-color: #00af00\">1,280,000</span> │ decoder_inputs[<span style=\"color: #00af00; text-decoration-color: #00af00\">0</span>… │\n",
       "│ (<span style=\"color: #0087ff; text-decoration-color: #0087ff\">Embedding</span>)         │                   │            │                   │\n",
       "├─────────────────────┼───────────────────┼────────────┼───────────────────┤\n",
       "│ lstm_66 (<span style=\"color: #0087ff; text-decoration-color: #0087ff\">LSTM</span>)      │ [(<span style=\"color: #00d7ff; text-decoration-color: #00d7ff\">None</span>, <span style=\"color: #00af00; text-decoration-color: #00af00\">28</span>, <span style=\"color: #00af00; text-decoration-color: #00af00\">512</span>), │  <span style=\"color: #00af00; text-decoration-color: #00af00\">1,312,768</span> │ embedding_40[<span style=\"color: #00af00; text-decoration-color: #00af00\">0</span>][<span style=\"color: #00af00; text-decoration-color: #00af00\">…</span> │\n",
       "│                     │ (<span style=\"color: #00d7ff; text-decoration-color: #00d7ff\">None</span>, <span style=\"color: #00af00; text-decoration-color: #00af00\">512</span>),      │            │ not_equal_50[<span style=\"color: #00af00; text-decoration-color: #00af00\">0</span>][<span style=\"color: #00af00; text-decoration-color: #00af00\">…</span> │\n",
       "│                     │ (<span style=\"color: #00d7ff; text-decoration-color: #00d7ff\">None</span>, <span style=\"color: #00af00; text-decoration-color: #00af00\">512</span>)]      │            │                   │\n",
       "├─────────────────────┼───────────────────┼────────────┼───────────────────┤\n",
       "│ lstm_67 (<span style=\"color: #0087ff; text-decoration-color: #0087ff\">LSTM</span>)      │ [(<span style=\"color: #00d7ff; text-decoration-color: #00d7ff\">None</span>, <span style=\"color: #00af00; text-decoration-color: #00af00\">27</span>, <span style=\"color: #00af00; text-decoration-color: #00af00\">512</span>), │  <span style=\"color: #00af00; text-decoration-color: #00af00\">1,312,768</span> │ embedding_41[<span style=\"color: #00af00; text-decoration-color: #00af00\">0</span>][<span style=\"color: #00af00; text-decoration-color: #00af00\">…</span> │\n",
       "│                     │ (<span style=\"color: #00d7ff; text-decoration-color: #00d7ff\">None</span>, <span style=\"color: #00af00; text-decoration-color: #00af00\">512</span>),      │            │ lstm_66[<span style=\"color: #00af00; text-decoration-color: #00af00\">0</span>][<span style=\"color: #00af00; text-decoration-color: #00af00\">1</span>],    │\n",
       "│                     │ (<span style=\"color: #00d7ff; text-decoration-color: #00d7ff\">None</span>, <span style=\"color: #00af00; text-decoration-color: #00af00\">512</span>)]      │            │ lstm_66[<span style=\"color: #00af00; text-decoration-color: #00af00\">0</span>][<span style=\"color: #00af00; text-decoration-color: #00af00\">2</span>]     │\n",
       "├─────────────────────┼───────────────────┼────────────┼───────────────────┤\n",
       "│ not_equal_51        │ (<span style=\"color: #00d7ff; text-decoration-color: #00d7ff\">None</span>, <span style=\"color: #00af00; text-decoration-color: #00af00\">27</span>)        │          <span style=\"color: #00af00; text-decoration-color: #00af00\">0</span> │ decoder_inputs[<span style=\"color: #00af00; text-decoration-color: #00af00\">0</span>… │\n",
       "│ (<span style=\"color: #0087ff; text-decoration-color: #0087ff\">NotEqual</span>)          │                   │            │                   │\n",
       "├─────────────────────┼───────────────────┼────────────┼───────────────────┤\n",
       "│ time_distributed_20 │ (<span style=\"color: #00d7ff; text-decoration-color: #00d7ff\">None</span>, <span style=\"color: #00af00; text-decoration-color: #00af00\">27</span>, <span style=\"color: #00af00; text-decoration-color: #00af00\">10000</span>) │  <span style=\"color: #00af00; text-decoration-color: #00af00\">5,130,000</span> │ lstm_67[<span style=\"color: #00af00; text-decoration-color: #00af00\">0</span>][<span style=\"color: #00af00; text-decoration-color: #00af00\">0</span>],    │\n",
       "│ (<span style=\"color: #0087ff; text-decoration-color: #0087ff\">TimeDistributed</span>)   │                   │            │ not_equal_51[<span style=\"color: #00af00; text-decoration-color: #00af00\">0</span>][<span style=\"color: #00af00; text-decoration-color: #00af00\">…</span> │\n",
       "└─────────────────────┴───────────────────┴────────────┴───────────────────┘\n",
       "</pre>\n"
      ],
      "text/plain": [
       "┏━━━━━━━━━━━━━━━━━━━━━┳━━━━━━━━━━━━━━━━━━━┳━━━━━━━━━━━━┳━━━━━━━━━━━━━━━━━━━┓\n",
       "┃\u001b[1m \u001b[0m\u001b[1mLayer (type)       \u001b[0m\u001b[1m \u001b[0m┃\u001b[1m \u001b[0m\u001b[1mOutput Shape     \u001b[0m\u001b[1m \u001b[0m┃\u001b[1m \u001b[0m\u001b[1m   Param #\u001b[0m\u001b[1m \u001b[0m┃\u001b[1m \u001b[0m\u001b[1mConnected to     \u001b[0m\u001b[1m \u001b[0m┃\n",
       "┡━━━━━━━━━━━━━━━━━━━━━╇━━━━━━━━━━━━━━━━━━━╇━━━━━━━━━━━━╇━━━━━━━━━━━━━━━━━━━┩\n",
       "│ encoder_inputs      │ (\u001b[38;5;45mNone\u001b[0m, \u001b[38;5;34m28\u001b[0m)        │          \u001b[38;5;34m0\u001b[0m │ -                 │\n",
       "│ (\u001b[38;5;33mInputLayer\u001b[0m)        │                   │            │                   │\n",
       "├─────────────────────┼───────────────────┼────────────┼───────────────────┤\n",
       "│ decoder_inputs      │ (\u001b[38;5;45mNone\u001b[0m, \u001b[38;5;34m27\u001b[0m)        │          \u001b[38;5;34m0\u001b[0m │ -                 │\n",
       "│ (\u001b[38;5;33mInputLayer\u001b[0m)        │                   │            │                   │\n",
       "├─────────────────────┼───────────────────┼────────────┼───────────────────┤\n",
       "│ embedding_40        │ (\u001b[38;5;45mNone\u001b[0m, \u001b[38;5;34m28\u001b[0m, \u001b[38;5;34m128\u001b[0m)   │  \u001b[38;5;34m1,280,000\u001b[0m │ encoder_inputs[\u001b[38;5;34m0\u001b[0m… │\n",
       "│ (\u001b[38;5;33mEmbedding\u001b[0m)         │                   │            │                   │\n",
       "├─────────────────────┼───────────────────┼────────────┼───────────────────┤\n",
       "│ not_equal_50        │ (\u001b[38;5;45mNone\u001b[0m, \u001b[38;5;34m28\u001b[0m)        │          \u001b[38;5;34m0\u001b[0m │ encoder_inputs[\u001b[38;5;34m0\u001b[0m… │\n",
       "│ (\u001b[38;5;33mNotEqual\u001b[0m)          │                   │            │                   │\n",
       "├─────────────────────┼───────────────────┼────────────┼───────────────────┤\n",
       "│ embedding_41        │ (\u001b[38;5;45mNone\u001b[0m, \u001b[38;5;34m27\u001b[0m, \u001b[38;5;34m128\u001b[0m)   │  \u001b[38;5;34m1,280,000\u001b[0m │ decoder_inputs[\u001b[38;5;34m0\u001b[0m… │\n",
       "│ (\u001b[38;5;33mEmbedding\u001b[0m)         │                   │            │                   │\n",
       "├─────────────────────┼───────────────────┼────────────┼───────────────────┤\n",
       "│ lstm_66 (\u001b[38;5;33mLSTM\u001b[0m)      │ [(\u001b[38;5;45mNone\u001b[0m, \u001b[38;5;34m28\u001b[0m, \u001b[38;5;34m512\u001b[0m), │  \u001b[38;5;34m1,312,768\u001b[0m │ embedding_40[\u001b[38;5;34m0\u001b[0m][\u001b[38;5;34m…\u001b[0m │\n",
       "│                     │ (\u001b[38;5;45mNone\u001b[0m, \u001b[38;5;34m512\u001b[0m),      │            │ not_equal_50[\u001b[38;5;34m0\u001b[0m][\u001b[38;5;34m…\u001b[0m │\n",
       "│                     │ (\u001b[38;5;45mNone\u001b[0m, \u001b[38;5;34m512\u001b[0m)]      │            │                   │\n",
       "├─────────────────────┼───────────────────┼────────────┼───────────────────┤\n",
       "│ lstm_67 (\u001b[38;5;33mLSTM\u001b[0m)      │ [(\u001b[38;5;45mNone\u001b[0m, \u001b[38;5;34m27\u001b[0m, \u001b[38;5;34m512\u001b[0m), │  \u001b[38;5;34m1,312,768\u001b[0m │ embedding_41[\u001b[38;5;34m0\u001b[0m][\u001b[38;5;34m…\u001b[0m │\n",
       "│                     │ (\u001b[38;5;45mNone\u001b[0m, \u001b[38;5;34m512\u001b[0m),      │            │ lstm_66[\u001b[38;5;34m0\u001b[0m][\u001b[38;5;34m1\u001b[0m],    │\n",
       "│                     │ (\u001b[38;5;45mNone\u001b[0m, \u001b[38;5;34m512\u001b[0m)]      │            │ lstm_66[\u001b[38;5;34m0\u001b[0m][\u001b[38;5;34m2\u001b[0m]     │\n",
       "├─────────────────────┼───────────────────┼────────────┼───────────────────┤\n",
       "│ not_equal_51        │ (\u001b[38;5;45mNone\u001b[0m, \u001b[38;5;34m27\u001b[0m)        │          \u001b[38;5;34m0\u001b[0m │ decoder_inputs[\u001b[38;5;34m0\u001b[0m… │\n",
       "│ (\u001b[38;5;33mNotEqual\u001b[0m)          │                   │            │                   │\n",
       "├─────────────────────┼───────────────────┼────────────┼───────────────────┤\n",
       "│ time_distributed_20 │ (\u001b[38;5;45mNone\u001b[0m, \u001b[38;5;34m27\u001b[0m, \u001b[38;5;34m10000\u001b[0m) │  \u001b[38;5;34m5,130,000\u001b[0m │ lstm_67[\u001b[38;5;34m0\u001b[0m][\u001b[38;5;34m0\u001b[0m],    │\n",
       "│ (\u001b[38;5;33mTimeDistributed\u001b[0m)   │                   │            │ not_equal_51[\u001b[38;5;34m0\u001b[0m][\u001b[38;5;34m…\u001b[0m │\n",
       "└─────────────────────┴───────────────────┴────────────┴───────────────────┘\n"
      ]
     },
     "metadata": {},
     "output_type": "display_data"
    },
    {
     "data": {
      "text/html": [
       "<pre style=\"white-space:pre;overflow-x:auto;line-height:normal;font-family:Menlo,'DejaVu Sans Mono',consolas,'Courier New',monospace\"><span style=\"font-weight: bold\"> Total params: </span><span style=\"color: #00af00; text-decoration-color: #00af00\">10,315,536</span> (39.35 MB)\n",
       "</pre>\n"
      ],
      "text/plain": [
       "\u001b[1m Total params: \u001b[0m\u001b[38;5;34m10,315,536\u001b[0m (39.35 MB)\n"
      ]
     },
     "metadata": {},
     "output_type": "display_data"
    },
    {
     "data": {
      "text/html": [
       "<pre style=\"white-space:pre;overflow-x:auto;line-height:normal;font-family:Menlo,'DejaVu Sans Mono',consolas,'Courier New',monospace\"><span style=\"font-weight: bold\"> Trainable params: </span><span style=\"color: #00af00; text-decoration-color: #00af00\">10,315,536</span> (39.35 MB)\n",
       "</pre>\n"
      ],
      "text/plain": [
       "\u001b[1m Trainable params: \u001b[0m\u001b[38;5;34m10,315,536\u001b[0m (39.35 MB)\n"
      ]
     },
     "metadata": {},
     "output_type": "display_data"
    },
    {
     "data": {
      "text/html": [
       "<pre style=\"white-space:pre;overflow-x:auto;line-height:normal;font-family:Menlo,'DejaVu Sans Mono',consolas,'Courier New',monospace\"><span style=\"font-weight: bold\"> Non-trainable params: </span><span style=\"color: #00af00; text-decoration-color: #00af00\">0</span> (0.00 B)\n",
       "</pre>\n"
      ],
      "text/plain": [
       "\u001b[1m Non-trainable params: \u001b[0m\u001b[38;5;34m0\u001b[0m (0.00 B)\n"
      ]
     },
     "metadata": {},
     "output_type": "display_data"
    }
   ],
   "source": [
    "from tensorflow.keras.layers import Input, Embedding, LSTM, Dense, TimeDistributed\n",
    "from tensorflow.keras.models import Model\n",
    "\n",
    "def build_lstm_model(vocab_size, max_length, embed_dim=128, lstm_units=512, dropout_rate=0.2):\n",
    "    # Encoder\n",
    "    encoder_inputs = Input(shape=(max_length,), dtype='int32', name='encoder_inputs')\n",
    "    encoder_embedding = Embedding(input_dim=vocab_size, output_dim=embed_dim, input_length=max_length, mask_zero=True)(encoder_inputs)\n",
    "    encoder_lstm = LSTM(lstm_units, return_sequences=True, return_state=True, recurrent_dropout=dropout_rate, use_cudnn=False)\n",
    "    encoder_outputs, state_h, state_c = encoder_lstm(encoder_embedding)\n",
    "    encoder_states = [state_h, state_c]\n",
    "\n",
    "    # Decoder\n",
    "    #Decoder input data is shifted. This is the reason of max_length - 1\n",
    "    decoder_inputs = Input(shape=(max_length-1,), dtype='int32', name='decoder_inputs')\n",
    "    decoder_embedding = Embedding(input_dim=vocab_size, output_dim=embed_dim, input_length=max_length-1, mask_zero=True)(decoder_inputs)\n",
    "    decoder_lstm = LSTM(lstm_units, return_sequences=True, return_state=True, recurrent_dropout=dropout_rate, use_cudnn=False)\n",
    "    #in decoder output in this architecture, the states of the LSTMs are not important and we do not use them.\n",
    "    decoder_outputs, _, _ = decoder_lstm(decoder_embedding, initial_state=encoder_states)\n",
    "    decoder_dense = TimeDistributed(Dense(vocab_size, activation='softmax'))\n",
    "    decoder_outputs = decoder_dense(decoder_outputs)\n",
    "\n",
    "    # Model\n",
    "    model = Model([encoder_inputs, decoder_inputs], decoder_outputs)\n",
    "    return model\n",
    "\n",
    "vocab_size = 10000  # Update this according to your tokenizer\n",
    "max_length = train_data.shape[1]  # Assuming all sequences have the same length\n",
    "model = build_lstm_model(vocab_size, max_length = 28)\n",
    "model.compile(optimizer='adam', loss='sparse_categorical_crossentropy')\n",
    "model.summary()\n"
   ]
  },
  {
   "cell_type": "markdown",
   "metadata": {},
   "source": []
  },
  {
   "cell_type": "code",
   "execution_count": 120,
   "metadata": {
    "execution": {
     "iopub.execute_input": "2024-06-12T03:07:39.753684Z",
     "iopub.status.busy": "2024-06-12T03:07:39.752704Z",
     "iopub.status.idle": "2024-06-12T03:44:51.700855Z",
     "shell.execute_reply": "2024-06-12T03:44:51.699790Z",
     "shell.execute_reply.started": "2024-06-12T03:07:39.753649Z"
    }
   },
   "outputs": [
    {
     "name": "stdout",
     "output_type": "stream",
     "text": [
      "Epoch 1/10\n",
      "\u001b[1m6875/6875\u001b[0m \u001b[32m━━━━━━━━━━━━━━━━━━━━\u001b[0m\u001b[37m\u001b[0m \u001b[1m232s\u001b[0m 32ms/step - loss: 4.7572\n",
      "Epoch 2/10\n",
      "\u001b[1m6875/6875\u001b[0m \u001b[32m━━━━━━━━━━━━━━━━━━━━\u001b[0m\u001b[37m\u001b[0m \u001b[1m217s\u001b[0m 32ms/step - loss: 2.1780\n",
      "Epoch 3/10\n",
      "\u001b[1m6875/6875\u001b[0m \u001b[32m━━━━━━━━━━━━━━━━━━━━\u001b[0m\u001b[37m\u001b[0m \u001b[1m217s\u001b[0m 32ms/step - loss: 1.2490\n",
      "Epoch 4/10\n",
      "\u001b[1m6875/6875\u001b[0m \u001b[32m━━━━━━━━━━━━━━━━━━━━\u001b[0m\u001b[37m\u001b[0m \u001b[1m217s\u001b[0m 32ms/step - loss: 0.8377\n",
      "Epoch 5/10\n",
      "\u001b[1m6875/6875\u001b[0m \u001b[32m━━━━━━━━━━━━━━━━━━━━\u001b[0m\u001b[37m\u001b[0m \u001b[1m217s\u001b[0m 32ms/step - loss: 0.6387\n",
      "Epoch 6/10\n",
      "\u001b[1m6875/6875\u001b[0m \u001b[32m━━━━━━━━━━━━━━━━━━━━\u001b[0m\u001b[37m\u001b[0m \u001b[1m217s\u001b[0m 32ms/step - loss: 0.5180\n",
      "Epoch 7/10\n",
      "\u001b[1m6875/6875\u001b[0m \u001b[32m━━━━━━━━━━━━━━━━━━━━\u001b[0m\u001b[37m\u001b[0m \u001b[1m262s\u001b[0m 32ms/step - loss: 0.4369\n",
      "Epoch 8/10\n",
      "\u001b[1m6875/6875\u001b[0m \u001b[32m━━━━━━━━━━━━━━━━━━━━\u001b[0m\u001b[37m\u001b[0m \u001b[1m217s\u001b[0m 32ms/step - loss: 0.3800\n",
      "Epoch 9/10\n",
      "\u001b[1m6875/6875\u001b[0m \u001b[32m━━━━━━━━━━━━━━━━━━━━\u001b[0m\u001b[37m\u001b[0m \u001b[1m217s\u001b[0m 32ms/step - loss: 0.3359\n",
      "Epoch 10/10\n",
      "\u001b[1m6875/6875\u001b[0m \u001b[32m━━━━━━━━━━━━━━━━━━━━\u001b[0m\u001b[37m\u001b[0m \u001b[1m217s\u001b[0m 32ms/step - loss: 0.3007\n"
     ]
    }
   ],
   "source": [
    "batch_size = 32\n",
    "epochs = 10\n",
    "\n",
    "# Train the model\n",
    "history = model.fit(\n",
    "    [encoder_inputs_data, decoder_inputs_data],\n",
    "    decoder_target_data,\n",
    "    batch_size=batch_size,\n",
    "    epochs=epochs\n",
    ")"
   ]
  },
  {
   "cell_type": "code",
   "execution_count": 122,
   "metadata": {
    "execution": {
     "iopub.execute_input": "2024-06-12T03:45:19.606972Z",
     "iopub.status.busy": "2024-06-12T03:45:19.606612Z",
     "iopub.status.idle": "2024-06-12T03:45:19.865648Z",
     "shell.execute_reply": "2024-06-12T03:45:19.864739Z",
     "shell.execute_reply.started": "2024-06-12T03:45:19.606945Z"
    }
   },
   "outputs": [
    {
     "data": {
      "image/png": "[encoded data removed]",
      "text/plain": [
       "<Figure size 640x480 with 1 Axes>"
      ]
     },
     "metadata": {},
     "output_type": "display_data"
    }
   ],
   "source": [
    "import matplotlib.pyplot as plt\n",
    "plt.plot(history.history['loss'], label='Training Loss')\n",
    "plt.xlabel('Epoch')\n",
    "plt.ylabel('Loss')\n",
    "plt.title('Train loss over epochs')\n",
    "plt.show()"
   ]
  },
  {
   "cell_type": "code",
   "execution_count": 123,
   "metadata": {
    "execution": {
     "iopub.execute_input": "2024-06-12T03:45:27.612758Z",
     "iopub.status.busy": "2024-06-12T03:45:27.612293Z",
     "iopub.status.idle": "2024-06-12T03:45:27.617143Z",
     "shell.execute_reply": "2024-06-12T03:45:27.616058Z",
     "shell.execute_reply.started": "2024-06-12T03:45:27.612728Z"
    }
   },
   "outputs": [],
   "source": [
    "loss_10epoch = history.history['loss']"
   ]
  },
  {
   "cell_type": "markdown",
   "metadata": {},
   "source": [
    "# Inference"
   ]
  },
  {
   "cell_type": "markdown",
   "metadata": {},
   "source": [
    "**Why we need Inference?**\n",
    "\n",
    "* During training, we are aware of the decoder input. On the other hand, when the model face new data, it has no idea what the decoder input is. Thus, we create inference part so:\n",
    "1. we give shuffled data to encoder to generate context\n",
    "2. we use the context provided by encoder, and start token as the first input to decoder to generate the second decoder token\n"
   ]
  },
  {
   "cell_type": "code",
   "execution_count": 124,
   "metadata": {
    "execution": {
     "iopub.execute_input": "2024-06-12T03:45:39.038126Z",
     "iopub.status.busy": "2024-06-12T03:45:39.037286Z",
     "iopub.status.idle": "2024-06-12T03:45:39.055761Z",
     "shell.execute_reply": "2024-06-12T03:45:39.054818Z",
     "shell.execute_reply.started": "2024-06-12T03:45:39.038095Z"
    }
   },
   "outputs": [],
   "source": [
    "\n",
    "\n",
    "encoder_inputs = model.input[0]  # Encoder input from the trained model\n",
    "encoder_outputs, state_h_enc, state_c_enc = model.layers[4].output  # LSTM output and states\n",
    "encoder_model = Model(encoder_inputs, [encoder_outputs, state_h_enc, state_c_enc])\n",
    "\n",
    "decoder_inputs = model.input[1]  # Decoder input from the trained model\n",
    "decoder_state_input_h = Input(shape=(512,), name='decoder_state_input_h')\n",
    "decoder_state_input_c = Input(shape=(512,), name='decoder_state_input_c')\n",
    "decoder_embedding = model.layers[3](decoder_inputs)\n",
    "decoder_lstm = model.layers[5]\n",
    "decoder_outputs, state_h_dec, state_c_dec = decoder_lstm(\n",
    "    decoder_embedding, initial_state=[decoder_state_input_h, decoder_state_input_c]\n",
    ")\n",
    "decoder_dense = model.layers[6]\n",
    "decoder_outputs = decoder_dense(decoder_outputs)\n",
    "decoder_model = Model(\n",
    "    [decoder_inputs] + [decoder_state_input_h, decoder_state_input_c],\n",
    "    [decoder_outputs] + [state_h_dec, state_c_dec]\n",
    ")"
   ]
  },
  {
   "cell_type": "code",
   "execution_count": 125,
   "metadata": {
    "execution": {
     "iopub.execute_input": "2024-06-12T03:45:41.070462Z",
     "iopub.status.busy": "2024-06-12T03:45:41.069754Z",
     "iopub.status.idle": "2024-06-12T03:45:41.078208Z",
     "shell.execute_reply": "2024-06-12T03:45:41.077231Z",
     "shell.execute_reply.started": "2024-06-12T03:45:41.070433Z"
    }
   },
   "outputs": [],
   "source": [
    "def decode_sequence(input_seq):\n",
    "    \n",
    "    #verbose is 0 so that when predicting, the notebook will not be filled with progess bars\n",
    "    encoder_outputs, state_h, state_c = encoder_model.predict(input_seq, verbose =0)\n",
    "\n",
    "    #we create a first token as start to give to decoder\n",
    "    target_seq = np.zeros((1, 1))\n",
    "    target_seq[0, 0] = tokenizer('<start>')\n",
    "\n",
    "    \n",
    "    stop_condition = False\n",
    "    decoded_sentence = ''\n",
    "    while not stop_condition:\n",
    "        output_tokens, h, c = decoder_model.predict(\n",
    "            [target_seq] + [state_h, state_c]\n",
    "        )\n",
    "\n",
    "        # Sample a token\n",
    "        sampled_token_index = np.argmax(output_tokens[0, -1, :])\n",
    "        sampled_token = tokenizer.get_vocabulary()[sampled_token_index]\n",
    "\n",
    "        # Exit condition: either hit max length or find stop token\n",
    "        if sampled_token == '<end>' or len(decoded_sentence) > 28:\n",
    "            stop_condition = True\n",
    "        else:\n",
    "            decoded_sentence += ' ' + sampled_token\n",
    "\n",
    "            # Update the target sequence (of length 1)\n",
    "            target_seq = np.zeros((1, 1))\n",
    "            target_seq[0, 0] = sampled_token_index\n",
    "\n",
    "            # Update states\n",
    "            state_h, state_c = h, c\n",
    "\n",
    "    return decoded_sentence.strip()"
   ]
  },
  {
   "cell_type": "code",
   "execution_count": 126,
   "metadata": {
    "execution": {
     "iopub.execute_input": "2024-06-12T03:45:42.710310Z",
     "iopub.status.busy": "2024-06-12T03:45:42.709443Z",
     "iopub.status.idle": "2024-06-12T03:45:42.715002Z",
     "shell.execute_reply": "2024-06-12T03:45:42.714080Z",
     "shell.execute_reply.started": "2024-06-12T03:45:42.710279Z"
    }
   },
   "outputs": [],
   "source": [
    "def prediction(seq):\n",
    "    seq = np.array(seq).reshape(1, 28)\n",
    "    preds = decode_sequence(seq)\n",
    "    \n",
    "    return preds"
   ]
  },
  {
   "cell_type": "code",
   "execution_count": 127,
   "metadata": {
    "execution": {
     "iopub.execute_input": "2024-06-12T03:45:43.786703Z",
     "iopub.status.busy": "2024-06-12T03:45:43.785813Z",
     "iopub.status.idle": "2024-06-12T03:45:45.632679Z",
     "shell.execute_reply": "2024-06-12T03:45:45.631704Z",
     "shell.execute_reply.started": "2024-06-12T03:45:43.786672Z"
    }
   },
   "outputs": [
    {
     "name": "stdout",
     "output_type": "stream",
     "text": [
      "\u001b[1m1/1\u001b[0m \u001b[32m━━━━━━━━━━━━━━━━━━━━\u001b[0m\u001b[37m\u001b[0m \u001b[1m0s\u001b[0m 469ms/step\n",
      "\u001b[1m1/1\u001b[0m \u001b[32m━━━━━━━━━━━━━━━━━━━━\u001b[0m\u001b[37m\u001b[0m \u001b[1m1s\u001b[0m 513ms/step\n",
      "\u001b[1m1/1\u001b[0m \u001b[32m━━━━━━━━━━━━━━━━━━━━\u001b[0m\u001b[37m\u001b[0m \u001b[1m0s\u001b[0m 18ms/step\n",
      "\u001b[1m1/1\u001b[0m \u001b[32m━━━━━━━━━━━━━━━━━━━━\u001b[0m\u001b[37m\u001b[0m \u001b[1m0s\u001b[0m 19ms/step\n",
      "\u001b[1m1/1\u001b[0m \u001b[32m━━━━━━━━━━━━━━━━━━━━\u001b[0m\u001b[37m\u001b[0m \u001b[1m0s\u001b[0m 18ms/step\n",
      "\u001b[1m1/1\u001b[0m \u001b[32m━━━━━━━━━━━━━━━━━━━━\u001b[0m\u001b[37m\u001b[0m \u001b[1m0s\u001b[0m 18ms/step\n",
      "\u001b[1m1/1\u001b[0m \u001b[32m━━━━━━━━━━━━━━━━━━━━\u001b[0m\u001b[37m\u001b[0m \u001b[1m0s\u001b[0m 19ms/step\n",
      "\u001b[1m1/1\u001b[0m \u001b[32m━━━━━━━━━━━━━━━━━━━━\u001b[0m\u001b[37m\u001b[0m \u001b[1m0s\u001b[0m 18ms/step\n",
      "\u001b[1m1/1\u001b[0m \u001b[32m━━━━━━━━━━━━━━━━━━━━\u001b[0m\u001b[37m\u001b[0m \u001b[1m0s\u001b[0m 19ms/step\n"
     ]
    }
   ],
   "source": [
    "pred = prediction(x[0])"
   ]
  },
  {
   "cell_type": "code",
   "execution_count": 129,
   "metadata": {
    "execution": {
     "iopub.execute_input": "2024-06-12T03:45:51.622883Z",
     "iopub.status.busy": "2024-06-12T03:45:51.622204Z",
     "iopub.status.idle": "2024-06-12T03:45:51.628833Z",
     "shell.execute_reply": "2024-06-12T03:45:51.627841Z",
     "shell.execute_reply.started": "2024-06-12T03:45:51.622852Z"
    }
   },
   "outputs": [],
   "source": [
    "detokenized_x = detokenizer(x)\n",
    "detokenized_y = detokenizer(y)"
   ]
  },
  {
   "cell_type": "code",
   "execution_count": 130,
   "metadata": {
    "execution": {
     "iopub.execute_input": "2024-06-12T03:45:53.113662Z",
     "iopub.status.busy": "2024-06-12T03:45:53.112974Z",
     "iopub.status.idle": "2024-06-12T03:45:53.117918Z",
     "shell.execute_reply": "2024-06-12T03:45:53.117049Z",
     "shell.execute_reply.started": "2024-06-12T03:45:53.113631Z"
    }
   },
   "outputs": [
    {
     "name": "stdout",
     "output_type": "stream",
     "text": [
      "the tested truth value is :\n",
      " <start> wind energy is the one of the most inexpensive forms of energy on the market <end> \n",
      " The predicted value is:\n",
      " energy is one of the most important\n"
     ]
    }
   ],
   "source": [
    "print(f'the tested truth value is :\\n {detokenized_y[0]} \\n The predicted value is:\\n {pred}')"
   ]
  },
  {
   "cell_type": "markdown",
   "metadata": {},
   "source": [
    "We can see that our model could order part of the sentence with the correct position of 'noun', 'to be' and rest of the sentence. With playing with hyperparameters and training the model for a couple of more epoch, maybe we could get a little better result but the difference is not that much. Hence, in another notebook, I am going to train a transformer for this task to see the difference between the performance of transformer and this LSTM based model. But I believe for a model with just 10 milion parameters, this model has showed an acceptable perfromance"
   ]
  }
 ],
 "metadata": {
  "kaggle": {
   "accelerator": "gpu",
   "dataSources": [],
   "dockerImageVersionId": 30733,
   "isGpuEnabled": true,
   "isInternetEnabled": true,
   "language": "python",
   "sourceType": "notebook"
  },
  "kernelspec": {
   "display_name": "Python 3 (ipykernel)",
   "language": "python",
   "name": "python3"
  },
  "language_info": {
   "codemirror_mode": {
    "name": "ipython",
    "version": 3
   },
   "file_extension": ".py",
   "mimetype": "text/x-python",
   "name": "python",
   "nbconvert_exporter": "python",
   "pygments_lexer": "ipython3",
   "version": "3.9.9"
  }
 },
 "nbformat": 4,
 "nbformat_minor": 4
}
